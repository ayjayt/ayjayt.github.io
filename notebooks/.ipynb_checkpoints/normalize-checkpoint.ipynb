{
 "cells": [
  {
   "cell_type": "code",
   "execution_count": 140,
   "metadata": {},
   "outputs": [],
   "source": [
    "# imports\n",
    "import pandas as pd\n",
    "import os"
   ]
  },
  {
   "cell_type": "code",
   "execution_count": 141,
   "metadata": {},
   "outputs": [],
   "source": [
    "# path vars \n",
    "PROJ_DIR = '/home/oliver/ayjayt.github.io'\n",
    "DATA_PATH = PROJ_DIR + '/covidclinicaldata/data'\n",
    "DATA_SUFFIX = '_carbonhealth_and_braidhealth.csv'"
   ]
  },
  {
   "cell_type": "code",
   "execution_count": 142,
   "metadata": {},
   "outputs": [],
   "source": [
    "# read csv into dataframe\n",
    "\n",
    "def df_covid_data(date_string)-> pd.DataFrame:\n",
    "    return pd.read_csv(DATA_PATH+'/' + date_string + DATA_SUFFIX)\n",
    "\n",
    "df = df_covid_data('06-16')"
   ]
  },
  {
   "cell_type": "code",
   "execution_count": 143,
   "metadata": {},
   "outputs": [],
   "source": [
    "def normalize(column)-> pd.Series:\n",
    "    low = column.min()\n",
    "    width = column.max() - low\n",
    "    if width == 0:\n",
    "        return column\n",
    "    return (column - low)/width\n",
    "    \n",
    "    "
   ]
  },
  {
   "cell_type": "code",
   "execution_count": 144,
   "metadata": {},
   "outputs": [],
   "source": [
    "df = df.drop([\n",
    "    'batch_date',\n",
    "    'test_name',\n",
    "    'swab_type',\n",
    "    'cxr_link',\n",
    "    'cxr_findings',\n",
    "    'cxr_impression'\n",
    "], axis='columns', errors='ignore')"
   ]
  },
  {
   "cell_type": "code",
   "execution_count": 150,
   "metadata": {},
   "outputs": [],
   "source": [
    "df.replace({\n",
    "    'Negative': 0,\n",
    "    'Positive': 1,\n",
    "    'Significant': 1,\n",
    "    'Mild': 0,\n",
    "    'Moderate': .5,\n",
    "    'Severe': 1,\n",
    "    False: 0,\n",
    "    True: 1,\n",
    "    pd.NA: .5}, inplace=True)"
   ]
  },
  {
   "cell_type": "code",
   "execution_count": 153,
   "metadata": {},
   "outputs": [],
   "source": [
    "df = df.apply(func=normalize, axis='columns')"
   ]
  }
 ],
 "metadata": {
  "kernelspec": {
   "display_name": "Python 3",
   "language": "python",
   "name": "python3"
  },
  "language_info": {
   "codemirror_mode": {
    "name": "ipython",
    "version": 3
   },
   "file_extension": ".py",
   "mimetype": "text/x-python",
   "name": "python",
   "nbconvert_exporter": "python",
   "pygments_lexer": "ipython3",
   "version": "3.8.3"
  }
 },
 "nbformat": 4,
 "nbformat_minor": 4
}
