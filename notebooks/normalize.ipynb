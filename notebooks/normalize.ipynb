{
 "cells": [
  {
   "cell_type": "code",
   "execution_count": 1,
   "metadata": {},
   "outputs": [],
   "source": [
    "# imports\n",
    "import os\n",
    "import sys\n",
    "\n",
    "import pandas as pd"
   ]
  },
  {
   "cell_type": "code",
   "execution_count": 2,
   "metadata": {},
   "outputs": [],
   "source": [
    "# Here we find our submodule directory, make sure it has notebooks, and add them to path and import\n",
    "\n",
    "def findSubmoduleDir(path: str) -> str:\n",
    "    path = os.path.abspath(path)\n",
    "    if path == \"/\":\n",
    "        # Could not find covidclinicaldata in current directory or in any parent directory\n",
    "        # You can edit the CWPATH variable to point to the containing directory\n",
    "        raise FileNotFoundError(\"Could not find the covidclinicaldata/ subdirectory\")\n",
    "    if os.path.isdir(path+'/covidclinicaldata'):\n",
    "        return path+'/covidclinicaldata'\n",
    "    return findSubmoduleDir('..')\n",
    "    \n",
    "def mustContainNotebooks(path: str):\n",
    "    if not os.path.isdir(path+'/notebooks'):\n",
    "        raise FileNotFoundError(\"Could not find Jupyter notebooks in covidclinicaldata/- is it initialized?\")\n",
    "        \n",
    "#### DELETE THIS: don't supply system-specific paths to GitHub repos\n",
    "CWPATH = '.'\n",
    "DATA_SUFFIX = '.csv' # Assume any CSV is correct data\n",
    "MOD_DIR = findSubmoduleDir(CWPATH)\n",
    "mustContainNotebooks(MOD_DIR)\n",
    "PROJ_DIR = os.path.abspath(MOD_DIR + '/..')\n",
    "sys.path.insert(0, MOD_DIR+'/notebooks')\n",
    "\n",
    "from ipynb.fs.full.data_processing import (\n",
    "    filter_patients,\n",
    "    filter_pos,\n",
    "    get_sym_severity,\n",
    "    get_sym_severity_score,\n",
    "    is_abnormal_cxr,\n",
    "    open_data, #This is being overridden\n",
    "    plot_fill_rates,\n",
    "    print_data_info,\n",
    "    SYMPTOMS,\n",
    "    VITALS,\n",
    ")"
   ]
  },
  {
   "cell_type": "code",
   "execution_count": 3,
   "metadata": {},
   "outputs": [],
   "source": [
    "# Read Data\n",
    "\n",
    "## We'd like to use the original open_data function, but it takes no PATH argument.\n",
    "## This one also ignores indexes\n",
    "def open_data(path: str) -> pd.DataFrame:\n",
    "    '''Open all data in `PATH`.\n",
    "    Parameters\n",
    "    ----------\n",
    "    path : str\n",
    "        The path to find data.\n",
    "\n",
    "    \n",
    "    Returns\n",
    "    -------\n",
    "    pandas.DataFrame\n",
    "    '''    \n",
    "    return pd.concat(\n",
    "        [\n",
    "            pd.read_csv(f'{path}/{filename}') \n",
    "            for filename in os.listdir(path) \n",
    "            if filename.endswith('.csv')\n",
    "        ], ignore_index=True\n",
    "    )\n",
    "\n",
    "df = open_data(MOD_DIR + '/data')"
   ]
  },
  {
   "cell_type": "code",
   "execution_count": 4,
   "metadata": {},
   "outputs": [],
   "source": [
    "def normalize(column)-> pd.Series:\n",
    "    low = column.min()\n",
    "    width = column.max() - low\n",
    "    if width == 0:\n",
    "        return column\n",
    "    return (column - low)/width"
   ]
  },
  {
   "cell_type": "code",
   "execution_count": 5,
   "metadata": {},
   "outputs": [],
   "source": [
    "df = df.drop([\n",
    "    'batch_date',\n",
    "    'test_name',\n",
    "    'swab_type',\n",
    "    'cxr_link',\n",
    "    'cxr_findings',\n",
    "    'cxr_impression'\n",
    "], axis='columns', errors='ignore')"
   ]
  },
  {
   "cell_type": "code",
   "execution_count": 6,
   "metadata": {},
   "outputs": [],
   "source": [
    "df.replace({\n",
    "    'Negative': 0,\n",
    "    'Positive': 1,\n",
    "    'Significant': 1,\n",
    "    'Mild': 0,\n",
    "    'Moderate': .5,\n",
    "    'Severe': 1,\n",
    "    False: 0,\n",
    "    True: 1,\n",
    "    pd.NA: .5}, inplace=True)"
   ]
  },
  {
   "cell_type": "code",
   "execution_count": 7,
   "metadata": {},
   "outputs": [],
   "source": [
    "pd.set_option('display.max_columns', None)\n",
    "# use df.head(N) to test on N first entries\n",
    "df = df.head(100).apply(func=normalize, axis='index')"
   ]
  },
  {
   "cell_type": "code",
   "execution_count": 8,
   "metadata": {},
   "outputs": [],
   "source": [
    "# This does nothing, it's left here as scratch\n",
    "def ajs_normalize(df: pd.Series) -> pd.Series:\n",
    "    if df[ 'covid19_test_results' ] == \"Positive\":\n",
    "        return pd.Series('Yerp')\n",
    "    elif df[ 'covid19_test_results' ] == \"Negative\":\n",
    "        return pd.Series('Nerp')\n",
    "    else:\n",
    "        return pd.Series('wut')\n",
    "#norm_data = data.apply(ajs_normalize, axis=1)"
   ]
  }
 ],
 "metadata": {
  "kernelspec": {
   "display_name": "Python 3",
   "language": "python",
   "name": "python3"
  },
  "language_info": {
   "codemirror_mode": {
    "name": "ipython",
    "version": 3
   },
   "file_extension": ".py",
   "mimetype": "text/x-python",
   "name": "python",
   "nbconvert_exporter": "python",
   "pygments_lexer": "ipython3",
   "version": "3.7.8"
  }
 },
 "nbformat": 4,
 "nbformat_minor": 4
}
